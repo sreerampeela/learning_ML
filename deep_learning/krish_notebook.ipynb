{
  "nbformat": 4,
  "nbformat_minor": 0,
  "metadata": {
    "colab": {
      "name": "Untitled63.ipynb",
      "provenance": []
    },
    "kernelspec": {
      "name": "python3",
      "display_name": "Python 3"
    },
    "language_info": {
      "name": "python"
    }
  },
  "cells": [
    {
      "cell_type": "code",
      "execution_count": 1,
      "metadata": {
        "colab": {
          "base_uri": "https://localhost:8080/"
        },
        "id": "KMQO-lpC6lgI",
        "outputId": "827b8b09-d838-4a44-d3e5-3b7a4ba63413"
      },
      "outputs": [
        {
          "output_type": "stream",
          "name": "stdout",
          "text": [
            "Collecting tensorflow-gpu\n",
            "  Downloading tensorflow_gpu-2.8.0-cp37-cp37m-manylinux2010_x86_64.whl (497.5 MB)\n",
            "\u001b[K     |████████████████████████████████| 497.5 MB 24 kB/s \n",
            "\u001b[?25hRequirement already satisfied: tensorflow-io-gcs-filesystem>=0.23.1 in /usr/local/lib/python3.7/dist-packages (from tensorflow-gpu) (0.24.0)\n",
            "Requirement already satisfied: flatbuffers>=1.12 in /usr/local/lib/python3.7/dist-packages (from tensorflow-gpu) (2.0)\n",
            "Requirement already satisfied: google-pasta>=0.1.1 in /usr/local/lib/python3.7/dist-packages (from tensorflow-gpu) (0.2.0)\n",
            "Requirement already satisfied: absl-py>=0.4.0 in /usr/local/lib/python3.7/dist-packages (from tensorflow-gpu) (1.0.0)\n",
            "Requirement already satisfied: wrapt>=1.11.0 in /usr/local/lib/python3.7/dist-packages (from tensorflow-gpu) (1.14.0)\n",
            "Requirement already satisfied: termcolor>=1.1.0 in /usr/local/lib/python3.7/dist-packages (from tensorflow-gpu) (1.1.0)\n",
            "Requirement already satisfied: grpcio<2.0,>=1.24.3 in /usr/local/lib/python3.7/dist-packages (from tensorflow-gpu) (1.44.0)\n",
            "Requirement already satisfied: numpy>=1.20 in /usr/local/lib/python3.7/dist-packages (from tensorflow-gpu) (1.21.5)\n",
            "Requirement already satisfied: h5py>=2.9.0 in /usr/local/lib/python3.7/dist-packages (from tensorflow-gpu) (3.1.0)\n",
            "Requirement already satisfied: typing-extensions>=3.6.6 in /usr/local/lib/python3.7/dist-packages (from tensorflow-gpu) (3.10.0.2)\n",
            "Collecting tf-estimator-nightly==2.8.0.dev2021122109\n",
            "  Downloading tf_estimator_nightly-2.8.0.dev2021122109-py2.py3-none-any.whl (462 kB)\n",
            "\u001b[K     |████████████████████████████████| 462 kB 39.3 MB/s \n",
            "\u001b[?25hRequirement already satisfied: six>=1.12.0 in /usr/local/lib/python3.7/dist-packages (from tensorflow-gpu) (1.15.0)\n",
            "Requirement already satisfied: keras-preprocessing>=1.1.1 in /usr/local/lib/python3.7/dist-packages (from tensorflow-gpu) (1.1.2)\n",
            "Requirement already satisfied: protobuf>=3.9.2 in /usr/local/lib/python3.7/dist-packages (from tensorflow-gpu) (3.17.3)\n",
            "Requirement already satisfied: tensorboard<2.9,>=2.8 in /usr/local/lib/python3.7/dist-packages (from tensorflow-gpu) (2.8.0)\n",
            "Requirement already satisfied: astunparse>=1.6.0 in /usr/local/lib/python3.7/dist-packages (from tensorflow-gpu) (1.6.3)\n",
            "Requirement already satisfied: libclang>=9.0.1 in /usr/local/lib/python3.7/dist-packages (from tensorflow-gpu) (13.0.0)\n",
            "Requirement already satisfied: opt-einsum>=2.3.2 in /usr/local/lib/python3.7/dist-packages (from tensorflow-gpu) (3.3.0)\n",
            "Requirement already satisfied: gast>=0.2.1 in /usr/local/lib/python3.7/dist-packages (from tensorflow-gpu) (0.5.3)\n",
            "Requirement already satisfied: setuptools in /usr/local/lib/python3.7/dist-packages (from tensorflow-gpu) (57.4.0)\n",
            "Requirement already satisfied: keras<2.9,>=2.8.0rc0 in /usr/local/lib/python3.7/dist-packages (from tensorflow-gpu) (2.8.0)\n",
            "Requirement already satisfied: wheel<1.0,>=0.23.0 in /usr/local/lib/python3.7/dist-packages (from astunparse>=1.6.0->tensorflow-gpu) (0.37.1)\n",
            "Requirement already satisfied: cached-property in /usr/local/lib/python3.7/dist-packages (from h5py>=2.9.0->tensorflow-gpu) (1.5.2)\n",
            "Requirement already satisfied: google-auth<3,>=1.6.3 in /usr/local/lib/python3.7/dist-packages (from tensorboard<2.9,>=2.8->tensorflow-gpu) (1.35.0)\n",
            "Requirement already satisfied: markdown>=2.6.8 in /usr/local/lib/python3.7/dist-packages (from tensorboard<2.9,>=2.8->tensorflow-gpu) (3.3.6)\n",
            "Requirement already satisfied: tensorboard-plugin-wit>=1.6.0 in /usr/local/lib/python3.7/dist-packages (from tensorboard<2.9,>=2.8->tensorflow-gpu) (1.8.1)\n",
            "Requirement already satisfied: requests<3,>=2.21.0 in /usr/local/lib/python3.7/dist-packages (from tensorboard<2.9,>=2.8->tensorflow-gpu) (2.23.0)\n",
            "Requirement already satisfied: werkzeug>=0.11.15 in /usr/local/lib/python3.7/dist-packages (from tensorboard<2.9,>=2.8->tensorflow-gpu) (1.0.1)\n",
            "Requirement already satisfied: tensorboard-data-server<0.7.0,>=0.6.0 in /usr/local/lib/python3.7/dist-packages (from tensorboard<2.9,>=2.8->tensorflow-gpu) (0.6.1)\n",
            "Requirement already satisfied: google-auth-oauthlib<0.5,>=0.4.1 in /usr/local/lib/python3.7/dist-packages (from tensorboard<2.9,>=2.8->tensorflow-gpu) (0.4.6)\n",
            "Requirement already satisfied: cachetools<5.0,>=2.0.0 in /usr/local/lib/python3.7/dist-packages (from google-auth<3,>=1.6.3->tensorboard<2.9,>=2.8->tensorflow-gpu) (4.2.4)\n",
            "Requirement already satisfied: pyasn1-modules>=0.2.1 in /usr/local/lib/python3.7/dist-packages (from google-auth<3,>=1.6.3->tensorboard<2.9,>=2.8->tensorflow-gpu) (0.2.8)\n",
            "Requirement already satisfied: rsa<5,>=3.1.4 in /usr/local/lib/python3.7/dist-packages (from google-auth<3,>=1.6.3->tensorboard<2.9,>=2.8->tensorflow-gpu) (4.8)\n",
            "Requirement already satisfied: requests-oauthlib>=0.7.0 in /usr/local/lib/python3.7/dist-packages (from google-auth-oauthlib<0.5,>=0.4.1->tensorboard<2.9,>=2.8->tensorflow-gpu) (1.3.1)\n",
            "Requirement already satisfied: importlib-metadata>=4.4 in /usr/local/lib/python3.7/dist-packages (from markdown>=2.6.8->tensorboard<2.9,>=2.8->tensorflow-gpu) (4.11.3)\n",
            "Requirement already satisfied: zipp>=0.5 in /usr/local/lib/python3.7/dist-packages (from importlib-metadata>=4.4->markdown>=2.6.8->tensorboard<2.9,>=2.8->tensorflow-gpu) (3.7.0)\n",
            "Requirement already satisfied: pyasn1<0.5.0,>=0.4.6 in /usr/local/lib/python3.7/dist-packages (from pyasn1-modules>=0.2.1->google-auth<3,>=1.6.3->tensorboard<2.9,>=2.8->tensorflow-gpu) (0.4.8)\n",
            "Requirement already satisfied: certifi>=2017.4.17 in /usr/local/lib/python3.7/dist-packages (from requests<3,>=2.21.0->tensorboard<2.9,>=2.8->tensorflow-gpu) (2021.10.8)\n",
            "Requirement already satisfied: chardet<4,>=3.0.2 in /usr/local/lib/python3.7/dist-packages (from requests<3,>=2.21.0->tensorboard<2.9,>=2.8->tensorflow-gpu) (3.0.4)\n",
            "Requirement already satisfied: urllib3!=1.25.0,!=1.25.1,<1.26,>=1.21.1 in /usr/local/lib/python3.7/dist-packages (from requests<3,>=2.21.0->tensorboard<2.9,>=2.8->tensorflow-gpu) (1.24.3)\n",
            "Requirement already satisfied: idna<3,>=2.5 in /usr/local/lib/python3.7/dist-packages (from requests<3,>=2.21.0->tensorboard<2.9,>=2.8->tensorflow-gpu) (2.10)\n",
            "Requirement already satisfied: oauthlib>=3.0.0 in /usr/local/lib/python3.7/dist-packages (from requests-oauthlib>=0.7.0->google-auth-oauthlib<0.5,>=0.4.1->tensorboard<2.9,>=2.8->tensorflow-gpu) (3.2.0)\n",
            "Installing collected packages: tf-estimator-nightly, tensorflow-gpu\n",
            "Successfully installed tensorflow-gpu-2.8.0 tf-estimator-nightly-2.8.0.dev2021122109\n"
          ]
        }
      ],
      "source": [
        "!pip install tensorflow-gpu\n"
      ]
    },
    {
      "cell_type": "code",
      "source": [
        "import tensorflow as tf"
      ],
      "metadata": {
        "id": "D2IliGyI62B0"
      },
      "execution_count": 2,
      "outputs": []
    },
    {
      "cell_type": "code",
      "source": [
        "print(tf.__version__)"
      ],
      "metadata": {
        "colab": {
          "base_uri": "https://localhost:8080/"
        },
        "id": "4_fyxUHb7GuH",
        "outputId": "2c8a495d-cff8-49f1-b9c2-fa63165b0043"
      },
      "execution_count": 3,
      "outputs": [
        {
          "output_type": "stream",
          "name": "stdout",
          "text": [
            "2.8.0\n"
          ]
        }
      ]
    },
    {
      "cell_type": "code",
      "source": [
        "# Importing the libraries\n",
        "import numpy as np\n",
        "import matplotlib.pyplot as plt\n",
        "import pandas as pd"
      ],
      "metadata": {
        "id": "LLvV2K-o7KAp"
      },
      "execution_count": 4,
      "outputs": []
    },
    {
      "cell_type": "code",
      "source": [
        "# Importing the dataset\n",
        "dataset = pd.read_csv('Churn_Modelling.csv')\n",
        "X = dataset.iloc[:, 3:13]\n",
        "y = dataset.iloc[:, 13]"
      ],
      "metadata": {
        "id": "gHRHobkK7Sxn"
      },
      "execution_count": 5,
      "outputs": []
    },
    {
      "cell_type": "code",
      "source": [
        "#Create dummy variables\n",
        "geography=pd.get_dummies(X[\"Geography\"],drop_first=True)\n",
        "gender=pd.get_dummies(X['Gender'],drop_first=True)"
      ],
      "metadata": {
        "id": "T2yS0VL67Ufn"
      },
      "execution_count": 6,
      "outputs": []
    },
    {
      "cell_type": "code",
      "source": [
        "## Concatenate the Data Frames\n",
        "\n",
        "X=pd.concat([X,geography,gender],axis=1)\n",
        "\n",
        "## Drop Unnecessary columns\n",
        "X=X.drop(['Geography','Gender'],axis=1)\n",
        "\n",
        "# Splitting the dataset into the Training set and Test set\n",
        "from sklearn.model_selection import train_test_split\n",
        "X_train, X_test, y_train, y_test = train_test_split(X, y, test_size = 0.2, random_state = 0)\n"
      ],
      "metadata": {
        "id": "Co2rxaFR7Wgo"
      },
      "execution_count": 7,
      "outputs": []
    },
    {
      "cell_type": "code",
      "source": [
        "# Feature Scaling\n",
        "from sklearn.preprocessing import StandardScaler\n",
        "sc = StandardScaler()\n",
        "X_train = sc.fit_transform(X_train)\n",
        "X_test = sc.transform(X_test)\n"
      ],
      "metadata": {
        "id": "GNZrZXy37ZLs"
      },
      "execution_count": 8,
      "outputs": []
    },
    {
      "cell_type": "code",
      "source": [
        "# Part 2 - Now let's make the ANN!"
      ],
      "metadata": {
        "id": "uwN3bgie7bvT"
      },
      "execution_count": 9,
      "outputs": []
    },
    {
      "cell_type": "code",
      "source": [
        "from tensorflow.keras.models import Sequential\n",
        "from tensorflow.keras.layers import Dense\n",
        "from tensorflow.keras.layers import LeakyReLU,PReLU,ELU\n",
        "from tensorflow.keras.layers import Dropout\n"
      ],
      "metadata": {
        "id": "rL_a7vWu7dj1"
      },
      "execution_count": 14,
      "outputs": []
    },
    {
      "cell_type": "code",
      "source": [
        "# Initialising the ANN\n",
        "classifier = Sequential()"
      ],
      "metadata": {
        "id": "VDJwvrbZ7kj4"
      },
      "execution_count": 15,
      "outputs": []
    },
    {
      "cell_type": "code",
      "source": [
        "# Adding the input layer and the first hidden layer\n",
        "classifier.add(Dense(units=11,activation='relu'))"
      ],
      "metadata": {
        "id": "RSZQrU-g7z4N"
      },
      "execution_count": 16,
      "outputs": []
    },
    {
      "cell_type": "code",
      "source": [
        "# Adding the input layer and the first hidden layer\n",
        "classifier.add(Dense(units=6,activation='relu'))"
      ],
      "metadata": {
        "id": "byszZMvw8RcQ"
      },
      "execution_count": 17,
      "outputs": []
    },
    {
      "cell_type": "code",
      "source": [
        "# Adding the input layer and the first hidden layer\n",
        "classifier.add(Dense(units=1,activation='relu'))"
      ],
      "metadata": {
        "id": "Mk2slmAX8XUI"
      },
      "execution_count": 18,
      "outputs": []
    },
    {
      "cell_type": "code",
      "source": [
        "classifier.compile(optimizer='adam',loss='binary_crossentropy',metrics=['accuracy'])"
      ],
      "metadata": {
        "id": "F2udThHo8cFt"
      },
      "execution_count": 20,
      "outputs": []
    },
    {
      "cell_type": "code",
      "source": [
        "model_history=classifier.fit(X_train,y_train,validation_split=0.33,batch_size=10,epochs=50)"
      ],
      "metadata": {
        "colab": {
          "base_uri": "https://localhost:8080/"
        },
        "id": "3qairJAs8fIc",
        "outputId": "0730a4ec-193f-41ae-daff-4ccc7673b142"
      },
      "execution_count": 22,
      "outputs": [
        {
          "output_type": "stream",
          "name": "stdout",
          "text": [
            "Epoch 1/50\n",
            "536/536 [==============================] - 2s 5ms/step - loss: 0.5597 - accuracy: 0.7970 - val_loss: 0.5563 - val_accuracy: 0.7974\n",
            "Epoch 2/50\n",
            "536/536 [==============================] - 2s 4ms/step - loss: 0.5125 - accuracy: 0.8022 - val_loss: 0.5131 - val_accuracy: 0.7997\n",
            "Epoch 3/50\n",
            "536/536 [==============================] - 3s 6ms/step - loss: 0.4929 - accuracy: 0.8057 - val_loss: 0.4987 - val_accuracy: 0.8020\n",
            "Epoch 4/50\n",
            "536/536 [==============================] - 2s 4ms/step - loss: 0.4816 - accuracy: 0.8100 - val_loss: 0.4883 - val_accuracy: 0.8080\n",
            "Epoch 5/50\n",
            "536/536 [==============================] - 2s 4ms/step - loss: 0.4718 - accuracy: 0.8125 - val_loss: 0.4482 - val_accuracy: 0.8046\n",
            "Epoch 6/50\n",
            "536/536 [==============================] - 2s 4ms/step - loss: 0.4447 - accuracy: 0.8127 - val_loss: 0.4484 - val_accuracy: 0.8092\n",
            "Epoch 7/50\n",
            "536/536 [==============================] - 3s 5ms/step - loss: 0.4299 - accuracy: 0.8169 - val_loss: 0.4466 - val_accuracy: 0.8084\n",
            "Epoch 8/50\n",
            "536/536 [==============================] - 2s 5ms/step - loss: 0.4388 - accuracy: 0.8128 - val_loss: 0.4603 - val_accuracy: 0.8076\n",
            "Epoch 9/50\n",
            "536/536 [==============================] - 2s 4ms/step - loss: 0.4248 - accuracy: 0.8197 - val_loss: 0.4468 - val_accuracy: 0.8080\n",
            "Epoch 10/50\n",
            "536/536 [==============================] - 2s 4ms/step - loss: 0.4213 - accuracy: 0.8283 - val_loss: 0.4314 - val_accuracy: 0.8107\n",
            "Epoch 11/50\n",
            "536/536 [==============================] - 2s 4ms/step - loss: 0.4081 - accuracy: 0.8324 - val_loss: 0.4253 - val_accuracy: 0.8179\n",
            "Epoch 12/50\n",
            "536/536 [==============================] - 2s 4ms/step - loss: 0.4035 - accuracy: 0.8304 - val_loss: 0.4237 - val_accuracy: 0.8236\n",
            "Epoch 13/50\n",
            "536/536 [==============================] - 2s 4ms/step - loss: 0.3912 - accuracy: 0.8388 - val_loss: 0.4200 - val_accuracy: 0.8258\n",
            "Epoch 14/50\n",
            "536/536 [==============================] - 2s 5ms/step - loss: 0.3858 - accuracy: 0.8418 - val_loss: 0.4319 - val_accuracy: 0.8277\n",
            "Epoch 15/50\n",
            "536/536 [==============================] - 3s 5ms/step - loss: 0.3804 - accuracy: 0.8425 - val_loss: 0.4199 - val_accuracy: 0.8289\n",
            "Epoch 16/50\n",
            "536/536 [==============================] - 2s 4ms/step - loss: 0.3759 - accuracy: 0.8442 - val_loss: 0.3901 - val_accuracy: 0.8326\n",
            "Epoch 17/50\n",
            "536/536 [==============================] - 3s 5ms/step - loss: 0.3717 - accuracy: 0.8481 - val_loss: 0.4056 - val_accuracy: 0.8319\n",
            "Epoch 18/50\n",
            "536/536 [==============================] - 2s 4ms/step - loss: 0.3721 - accuracy: 0.8477 - val_loss: 0.4032 - val_accuracy: 0.8349\n",
            "Epoch 19/50\n",
            "536/536 [==============================] - 1s 3ms/step - loss: 0.3726 - accuracy: 0.8466 - val_loss: 0.3961 - val_accuracy: 0.8364\n",
            "Epoch 20/50\n",
            "536/536 [==============================] - 2s 3ms/step - loss: 0.3678 - accuracy: 0.8498 - val_loss: 0.4030 - val_accuracy: 0.8368\n",
            "Epoch 21/50\n",
            "536/536 [==============================] - 1s 3ms/step - loss: 0.3695 - accuracy: 0.8498 - val_loss: 0.4010 - val_accuracy: 0.8387\n",
            "Epoch 22/50\n",
            "536/536 [==============================] - 2s 3ms/step - loss: 0.3683 - accuracy: 0.8498 - val_loss: 0.3882 - val_accuracy: 0.8395\n",
            "Epoch 23/50\n",
            "536/536 [==============================] - 1s 3ms/step - loss: 0.3642 - accuracy: 0.8455 - val_loss: 0.4100 - val_accuracy: 0.8410\n",
            "Epoch 24/50\n",
            "536/536 [==============================] - 1s 3ms/step - loss: 0.3632 - accuracy: 0.8472 - val_loss: 0.4010 - val_accuracy: 0.8406\n",
            "Epoch 25/50\n",
            "536/536 [==============================] - 1s 3ms/step - loss: 0.3621 - accuracy: 0.8500 - val_loss: 0.4081 - val_accuracy: 0.8417\n",
            "Epoch 26/50\n",
            "536/536 [==============================] - 2s 3ms/step - loss: 0.3599 - accuracy: 0.8524 - val_loss: 0.4136 - val_accuracy: 0.8444\n",
            "Epoch 27/50\n",
            "536/536 [==============================] - 1s 3ms/step - loss: 0.3617 - accuracy: 0.8520 - val_loss: 0.4347 - val_accuracy: 0.8398\n",
            "Epoch 28/50\n",
            "536/536 [==============================] - 1s 2ms/step - loss: 0.3681 - accuracy: 0.8517 - val_loss: 0.4385 - val_accuracy: 0.8413\n",
            "Epoch 29/50\n",
            "536/536 [==============================] - 2s 3ms/step - loss: 0.3682 - accuracy: 0.8546 - val_loss: 0.3996 - val_accuracy: 0.8425\n",
            "Epoch 30/50\n",
            "536/536 [==============================] - 1s 3ms/step - loss: 0.3674 - accuracy: 0.8548 - val_loss: 0.4219 - val_accuracy: 0.8451\n",
            "Epoch 31/50\n",
            "536/536 [==============================] - 2s 3ms/step - loss: 0.3673 - accuracy: 0.8533 - val_loss: 0.4320 - val_accuracy: 0.8425\n",
            "Epoch 32/50\n",
            "536/536 [==============================] - 2s 3ms/step - loss: 0.3603 - accuracy: 0.8545 - val_loss: 0.4138 - val_accuracy: 0.8466\n",
            "Epoch 33/50\n",
            "536/536 [==============================] - 3s 5ms/step - loss: 0.3560 - accuracy: 0.8556 - val_loss: 0.4125 - val_accuracy: 0.8459\n",
            "Epoch 34/50\n",
            "536/536 [==============================] - 3s 5ms/step - loss: 0.3629 - accuracy: 0.8559 - val_loss: 0.4274 - val_accuracy: 0.8410\n",
            "Epoch 35/50\n",
            "536/536 [==============================] - 3s 5ms/step - loss: 0.3542 - accuracy: 0.8539 - val_loss: 0.4125 - val_accuracy: 0.8429\n",
            "Epoch 36/50\n",
            "536/536 [==============================] - 3s 5ms/step - loss: 0.3537 - accuracy: 0.8558 - val_loss: 0.4278 - val_accuracy: 0.8459\n",
            "Epoch 37/50\n",
            "536/536 [==============================] - 3s 5ms/step - loss: 0.3545 - accuracy: 0.8569 - val_loss: 0.4347 - val_accuracy: 0.8470\n",
            "Epoch 38/50\n",
            "536/536 [==============================] - 3s 6ms/step - loss: 0.3547 - accuracy: 0.8565 - val_loss: 0.4205 - val_accuracy: 0.8466\n",
            "Epoch 39/50\n",
            "536/536 [==============================] - 2s 4ms/step - loss: 0.3552 - accuracy: 0.8569 - val_loss: 0.4494 - val_accuracy: 0.8451\n",
            "Epoch 40/50\n",
            "536/536 [==============================] - 3s 5ms/step - loss: 0.3573 - accuracy: 0.8580 - val_loss: 0.4412 - val_accuracy: 0.8497\n",
            "Epoch 41/50\n",
            "536/536 [==============================] - 3s 5ms/step - loss: 0.3620 - accuracy: 0.8582 - val_loss: 0.4336 - val_accuracy: 0.8474\n",
            "Epoch 42/50\n",
            "536/536 [==============================] - 2s 3ms/step - loss: 0.3557 - accuracy: 0.8571 - val_loss: 0.4443 - val_accuracy: 0.8504\n",
            "Epoch 43/50\n",
            "536/536 [==============================] - 1s 3ms/step - loss: 0.3514 - accuracy: 0.8569 - val_loss: 0.4362 - val_accuracy: 0.8512\n",
            "Epoch 44/50\n",
            "536/536 [==============================] - 2s 3ms/step - loss: 0.3493 - accuracy: 0.8559 - val_loss: 0.4511 - val_accuracy: 0.8470\n",
            "Epoch 45/50\n",
            "536/536 [==============================] - 1s 2ms/step - loss: 0.3498 - accuracy: 0.8615 - val_loss: 0.4405 - val_accuracy: 0.8451\n",
            "Epoch 46/50\n",
            "536/536 [==============================] - 1s 3ms/step - loss: 0.3502 - accuracy: 0.8569 - val_loss: 0.4295 - val_accuracy: 0.8501\n",
            "Epoch 47/50\n",
            "536/536 [==============================] - 2s 3ms/step - loss: 0.3498 - accuracy: 0.8574 - val_loss: 0.4436 - val_accuracy: 0.8497\n",
            "Epoch 48/50\n",
            "536/536 [==============================] - 2s 3ms/step - loss: 0.3505 - accuracy: 0.8580 - val_loss: 0.4218 - val_accuracy: 0.8455\n",
            "Epoch 49/50\n",
            "536/536 [==============================] - 2s 3ms/step - loss: 0.3556 - accuracy: 0.8587 - val_loss: 0.4294 - val_accuracy: 0.8470\n",
            "Epoch 50/50\n",
            "536/536 [==============================] - 1s 3ms/step - loss: 0.3440 - accuracy: 0.8587 - val_loss: 0.4300 - val_accuracy: 0.8455\n"
          ]
        }
      ]
    },
    {
      "cell_type": "code",
      "source": [
        "# list all data in history\n",
        "\n",
        "print(model_history.history.keys())"
      ],
      "metadata": {
        "colab": {
          "base_uri": "https://localhost:8080/"
        },
        "id": "Q9t_M4wICTTz",
        "outputId": "18fa935a-8009-407f-de61-7f6a83669624"
      },
      "execution_count": 23,
      "outputs": [
        {
          "output_type": "stream",
          "name": "stdout",
          "text": [
            "dict_keys(['loss', 'accuracy', 'val_loss', 'val_accuracy'])\n"
          ]
        }
      ]
    },
    {
      "cell_type": "code",
      "source": [
        "\n",
        "# summarize history for accuracy\n",
        "plt.plot(model_history.history['accuracy'])\n",
        "plt.plot(model_history.history['val_accuracy'])\n",
        "plt.title('model accuracy')\n",
        "plt.ylabel('accuracy')\n",
        "plt.xlabel('epoch')\n",
        "plt.legend(['train', 'test'], loc='upper left')\n",
        "plt.show()"
      ],
      "metadata": {
        "colab": {
          "base_uri": "https://localhost:8080/",
          "height": 295
        },
        "id": "MMOyiwzgBlLY",
        "outputId": "aeb29600-3c1f-41aa-9e29-05acf6011ed8"
      },
      "execution_count": 25,
      "outputs": [
        {
          "output_type": "display_data",
          "data": {
            "text/plain": [
              "<Figure size 432x288 with 1 Axes>"
            ],
            "image/png": "[encoded data removed]"
          },
          "metadata": {
            "needs_background": "light"
          }
        }
      ]
    },
    {
      "cell_type": "code",
      "source": [
        "# summarize history for loss\n",
        "plt.plot(model_history.history['loss'])\n",
        "plt.plot(model_history.history['val_loss'])\n",
        "plt.title('model loss')\n",
        "plt.ylabel('loss')\n",
        "plt.xlabel('epoch')\n",
        "plt.legend(['train', 'test'], loc='upper left')\n",
        "plt.show()"
      ],
      "metadata": {
        "colab": {
          "base_uri": "https://localhost:8080/",
          "height": 295
        },
        "id": "QH141RsQCEr0",
        "outputId": "4566dca0-b002-4f59-b6e8-f8654b414283"
      },
      "execution_count": 26,
      "outputs": [
        {
          "output_type": "display_data",
          "data": {
            "text/plain": [
              "<Figure size 432x288 with 1 Axes>"
            ],
            "image/png": "[encoded data removed]"
          },
          "metadata": {
            "needs_background": "light"
          }
        }
      ]
    },
    {
      "cell_type": "code",
      "source": [
        "# Part 3 - Making the predictions and evaluating the model\n",
        "\n",
        "# Predicting the Test set results\n",
        "y_pred = classifier.predict(X_test)\n",
        "y_pred = (y_pred > 0.5)"
      ],
      "metadata": {
        "id": "OYqCIIkDCd8S"
      },
      "execution_count": 27,
      "outputs": []
    },
    {
      "cell_type": "code",
      "source": [
        "# Making the Confusion Matrix\n",
        "from sklearn.metrics import confusion_matrix\n",
        "cm = confusion_matrix(y_test, y_pred)\n",
        "cm"
      ],
      "metadata": {
        "colab": {
          "base_uri": "https://localhost:8080/"
        },
        "id": "cm3EeOGTCi3-",
        "outputId": "f3cfe210-0811-4c4e-ce72-4100b32bb79f"
      },
      "execution_count": 29,
      "outputs": [
        {
          "output_type": "execute_result",
          "data": {
            "text/plain": [
              "array([[1536,   59],\n",
              "       [ 225,  180]])"
            ]
          },
          "metadata": {},
          "execution_count": 29
        }
      ]
    },
    {
      "cell_type": "code",
      "source": [
        "# Calculate the Accuracy\n",
        "from sklearn.metrics import accuracy_score\n",
        "score=accuracy_score(y_pred,y_test)"
      ],
      "metadata": {
        "id": "FgfRKzzOClmP"
      },
      "execution_count": 30,
      "outputs": []
    },
    {
      "cell_type": "code",
      "source": [
        "score"
      ],
      "metadata": {
        "colab": {
          "base_uri": "https://localhost:8080/"
        },
        "id": "a_C5EETrCpSj",
        "outputId": "6e495c58-0149-453b-b0d6-592606fe5c80"
      },
      "execution_count": 31,
      "outputs": [
        {
          "output_type": "execute_result",
          "data": {
            "text/plain": [
              "0.858"
            ]
          },
          "metadata": {},
          "execution_count": 31
        }
      ]
    },
    {
      "cell_type": "code",
      "source": [
        ""
      ],
      "metadata": {
        "id": "UTvHAjYWCqWx"
      },
      "execution_count": null,
      "outputs": []
    }
  ]
}