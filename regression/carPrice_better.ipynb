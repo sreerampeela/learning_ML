{
 "cells": [
  {
   "cell_type": "markdown",
   "metadata": {},
   "source": [
    "### Better implementation of multiple regression\n",
    "Using the car price data and only the continuous variables."
   ]
  },
  {
   "cell_type": "code",
   "execution_count": 74,
   "metadata": {},
   "outputs": [],
   "source": [
    "import pandas as pd\n",
    "import numpy as np\n",
    "import matplotlib.pyplot as plt\n",
    "import seaborn as sns\n",
    "%matplotlib inline"
   ]
  },
  {
   "cell_type": "code",
   "execution_count": 75,
   "metadata": {},
   "outputs": [
    {
     "name": "stdout",
     "output_type": "stream",
     "text": [
      "   wheelbase  carlength  carwidth  carheight  curbweight  enginesize  \\\n",
      "0       88.6      168.8      64.1       48.8        2548         130   \n",
      "2       94.5      171.2      65.5       52.4        2823         152   \n",
      "3       99.8      176.6      66.2       54.3        2337         109   \n",
      "4       99.4      176.6      66.4       54.3        2824         136   \n",
      "5       99.8      177.3      66.3       53.1        2507         136   \n",
      "\n",
      "   boreratio  stroke  compressionratio  horsepower  peakrpm  citympg  \\\n",
      "0       3.47    2.68               9.0         111     5000       21   \n",
      "2       2.68    3.47               9.0         154     5000       19   \n",
      "3       3.19    3.40              10.0         102     5500       24   \n",
      "4       3.19    3.40               8.0         115     5500       18   \n",
      "5       3.19    3.40               8.5         110     5500       19   \n",
      "\n",
      "   highwaympg    price  \n",
      "0          27  13495.0  \n",
      "2          26  16500.0  \n",
      "3          30  13950.0  \n",
      "4          22  17450.0  \n",
      "5          25  15250.0  \n"
     ]
    }
   ],
   "source": [
    "df = pd.read_csv(\"./datasets/CarPrice_Assignment.csv\")\n",
    "df.drop(columns=[\"car_ID\", \"CarName\", \"symboling\"], index=1, inplace=True)\n",
    "df_cont = df.select_dtypes(include=\"number\")\n",
    "print(df_cont.head())"
   ]
  },
  {
   "cell_type": "markdown",
   "metadata": {},
   "source": [
    "Let us look at correlation and VIF"
   ]
  },
  {
   "cell_type": "markdown",
   "metadata": {},
   "source": [
    "### CORRELATION - part I"
   ]
  },
  {
   "cell_type": "code",
   "execution_count": null,
   "metadata": {},
   "outputs": [],
   "source": [
    "# %pip install statsmodels"
   ]
  },
  {
   "cell_type": "code",
   "execution_count": 76,
   "metadata": {},
   "outputs": [],
   "source": [
    "import statsmodels.api as sm\n"
   ]
  },
  {
   "cell_type": "code",
   "execution_count": 77,
   "metadata": {},
   "outputs": [
    {
     "name": "stdout",
     "output_type": "stream",
     "text": [
      "Index(['carlength', 'carwidth', 'curbweight', 'enginesize', 'horsepower',\n",
      "       'citympg', 'highwaympg', 'price'],\n",
      "      dtype='object')\n"
     ]
    }
   ],
   "source": [
    "corr_vals = df_cont.corr()\n",
    "# print(corr_vals)\n",
    "corr_price = corr_vals.iloc[13, :]\n",
    "corr_features = corr_price[abs(corr_price) > 0.6].index #ignoring features with -0.6 < rho < 0.6\n",
    "print(corr_features)\n",
    "# print(corr_features)\n",
    "# "
   ]
  },
  {
   "cell_type": "code",
   "execution_count": 78,
   "metadata": {},
   "outputs": [
    {
     "name": "stdout",
     "output_type": "stream",
     "text": [
      "   carlength  carwidth  curbweight  enginesize  horsepower  citympg  \\\n",
      "0      168.8      64.1        2548         130         111       21   \n",
      "2      171.2      65.5        2823         152         154       19   \n",
      "3      176.6      66.2        2337         109         102       24   \n",
      "4      176.6      66.4        2824         136         115       18   \n",
      "5      177.3      66.3        2507         136         110       19   \n",
      "\n",
      "   highwaympg    price  \n",
      "0          27  13495.0  \n",
      "2          26  16500.0  \n",
      "3          30  13950.0  \n",
      "4          22  17450.0  \n",
      "5          25  15250.0  \n"
     ]
    }
   ],
   "source": [
    "df_new = pd.DataFrame(df_cont, columns=corr_features)\n",
    "print(df_new.head())"
   ]
  },
  {
   "cell_type": "code",
   "execution_count": 79,
   "metadata": {},
   "outputs": [],
   "source": [
    "X = df_new.iloc[:, :-1]\n",
    "y = df_new[[\"price\"]]"
   ]
  },
  {
   "cell_type": "code",
   "execution_count": 80,
   "metadata": {},
   "outputs": [],
   "source": [
    "from sklearn.model_selection import train_test_split\n",
    "from sklearn.preprocessing import StandardScaler\n",
    "from sklearn.linear_model import LinearRegression\n",
    "from sklearn.metrics import mean_absolute_error, mean_squared_error, r2_score"
   ]
  },
  {
   "cell_type": "code",
   "execution_count": 81,
   "metadata": {},
   "outputs": [],
   "source": [
    "xtrain, xtest, ytrain, ytest = train_test_split(X, y, test_size=0.2, random_state=1987)\n",
    "scaler = StandardScaler()\n",
    "xtrain = scaler.fit_transform(xtrain)\n",
    "xtest = scaler.transform(xtest)"
   ]
  },
  {
   "cell_type": "code",
   "execution_count": 82,
   "metadata": {},
   "outputs": [],
   "source": [
    "regression = LinearRegression(fit_intercept=True, n_jobs = -1)\n",
    "regression.fit(xtrain,ytrain)\n",
    "ypred = regression.predict(xtest)\n"
   ]
  },
  {
   "cell_type": "code",
   "execution_count": 83,
   "metadata": {},
   "outputs": [
    {
     "name": "stdout",
     "output_type": "stream",
     "text": [
      "[-16868727.12693083 -23074289.36964466 -14184320.86377529\n",
      "  -5323243.86977331  -9069500.61439895 -12669392.40619034\n",
      " -10655354.9334304   -9313889.55636283 -11717195.97715382\n",
      " -24457611.78371863]\n"
     ]
    },
    {
     "data": {
      "text/plain": [
       "<seaborn.axisgrid.FacetGrid at 0x135a1fd06d0>"
      ]
     },
     "execution_count": 83,
     "metadata": {},
     "output_type": "execute_result"
    },
    {
     "data": {
      "image/png": "[encoded data removed]",
      "text/plain": [
       "<Figure size 584.625x500 with 1 Axes>"
      ]
     },
     "metadata": {},
     "output_type": "display_data"
    }
   ],
   "source": [
    "from sklearn.model_selection import cross_val_score\n",
    "cv_score = cross_val_score(regression, xtrain, ytrain, scoring=\"neg_mean_squared_error\", cv = 10)\n",
    "print(cv_score)\n",
    "ypred = regression.predict(xtest)\n",
    "residual_vals = ypred-ytest\n",
    "sns.displot(residual_vals, kind=\"kde\")"
   ]
  },
  {
   "cell_type": "code",
   "execution_count": 84,
   "metadata": {},
   "outputs": [
    {
     "data": {
      "text/plain": [
       "<matplotlib.collections.PathCollection at 0x135a2c95180>"
      ]
     },
     "execution_count": 84,
     "metadata": {},
     "output_type": "execute_result"
    },
    {
     "data": {
      "image/png": "[encoded data removed]",
      "text/plain": [
       "<Figure size 640x480 with 1 Axes>"
      ]
     },
     "metadata": {},
     "output_type": "display_data"
    }
   ],
   "source": [
    "plt.scatter(ypred, residual_vals)"
   ]
  },
  {
   "cell_type": "code",
   "execution_count": 86,
   "metadata": {},
   "outputs": [
    {
     "name": "stdout",
     "output_type": "stream",
     "text": [
      "Mean squared error: 7865454.425944087\n",
      "Mean absolute error: 2156.8395355421376\n",
      "R2: 0.6288909339259994\n",
      "Adjusted R2: 0.5524939458042286\n",
      "Regression coefficient: [[ -83.00787472 1436.0711598  1249.3825536  3790.89119478 2273.37773673\n",
      "   695.76649832 -435.33208504]]\n",
      "Intercept: [13666.38752761]\n"
     ]
    }
   ],
   "source": [
    "r2score = r2_score(ypred,ytest)\n",
    "adjr2 = 1 - ((1-r2score) * len(ytest) - 1) / (len(ytest) - xtest.shape[1] - 1 )\n",
    "# print(r2score)\n",
    "# print(adjr2)\n",
    "mse = mean_squared_error(ytest,ypred)\n",
    "mae = mean_absolute_error(ytest,ypred)\n",
    "rmse = np.sqrt(mse)\n",
    "r2 = r2_score(ytest, ypred)\n",
    "print(f\"Mean squared error: {mse}\\nMean absolute error: {mae}\\nR2: {r2}\\nAdjusted R2: {adjr2}\")\n",
    "print(f\"Regression coefficient: {regression.coef_}\\nIntercept: {regression.intercept_}\")"
   ]
  },
  {
   "cell_type": "markdown",
   "metadata": {},
   "source": [
    "Just by filtering out variables with low correlation gave poor fit.\n",
    "\n",
    "Adjusted R2 with fitering = 0.553, without filtering = 0.57.\n",
    "\n",
    "Therefore, retain all variables. Look at collinearity now"
   ]
  },
  {
   "cell_type": "markdown",
   "metadata": {},
   "source": [
    "### COLLINEARITY - PART II"
   ]
  },
  {
   "cell_type": "code",
   "execution_count": 87,
   "metadata": {},
   "outputs": [
    {
     "name": "stdout",
     "output_type": "stream",
     "text": [
      "<class 'numpy.ndarray'>\n",
      "['wheelbase' 'carlength' 'carwidth' 'carheight' 'enginesize' 'boreratio'\n",
      " 'stroke' 'compressionratio' 'horsepower' 'peakrpm' 'price']\n"
     ]
    }
   ],
   "source": [
    "from statsmodels.stats.outliers_influence import variance_inflation_factor as VIF\n",
    "from statsmodels.stats.anova import anova_lm\n",
    "\n",
    "def calculate_VIF(df):\n",
    "  df[\"intercept\"] = 1\n",
    "  vif_data = pd.DataFrame()\n",
    "  vif_data[\"variables\"] = df.columns\n",
    "  vif_data['VIF'] = [VIF(df.values, i) for i in range(df.shape[1])]\n",
    "  return vif_data\n",
    "\n",
    "\n",
    "vif_vals = calculate_VIF(df_cont.iloc[:,:-1])\n",
    "# print(vif_vals)\n",
    "uncollinear_vars = vif_vals[vif_vals[\"VIF\"] < 10][\"variables\"].values \n",
    "print(type(uncollinear_vars))\n",
    "# uncollinear_vars = list(uncollinear_vars).append(\"price\")\n",
    "uncollinear_vars = np.append(uncollinear_vars, \"price\")\n",
    "print(uncollinear_vars)"
   ]
  },
  {
   "cell_type": "code",
   "execution_count": 88,
   "metadata": {},
   "outputs": [
    {
     "name": "stdout",
     "output_type": "stream",
     "text": [
      "   wheelbase  carlength  carwidth  carheight  enginesize  boreratio  stroke  \\\n",
      "0       88.6      168.8      64.1       48.8         130       3.47    2.68   \n",
      "2       94.5      171.2      65.5       52.4         152       2.68    3.47   \n",
      "3       99.8      176.6      66.2       54.3         109       3.19    3.40   \n",
      "4       99.4      176.6      66.4       54.3         136       3.19    3.40   \n",
      "5       99.8      177.3      66.3       53.1         136       3.19    3.40   \n",
      "\n",
      "   compressionratio  horsepower  peakrpm    price  \n",
      "0               9.0         111     5000  13495.0  \n",
      "2               9.0         154     5000  16500.0  \n",
      "3              10.0         102     5500  13950.0  \n",
      "4               8.0         115     5500  17450.0  \n",
      "5               8.5         110     5500  15250.0  \n"
     ]
    }
   ],
   "source": [
    "df_cont = df.select_dtypes(include=\"number\")\n",
    "df_small = pd.DataFrame(df_cont, columns=uncollinear_vars)\n",
    "print(df_small.head())"
   ]
  },
  {
   "cell_type": "code",
   "execution_count": 91,
   "metadata": {},
   "outputs": [
    {
     "name": "stdout",
     "output_type": "stream",
     "text": [
      "[[ 717.01756683 -457.84185694 1333.94354294  565.64404594 5336.47120618\n",
      "  -219.49215663 -801.27392667  952.81621213 2067.06962927 1172.12982238]]\n"
     ]
    }
   ],
   "source": [
    "def runMLR(df):\n",
    "  \"\"\"A function to run multiple linear regression on a dataframe\"\"\"\n",
    "  X = df.iloc[:, :-1]\n",
    "  y = df[[\"price\"]]\n",
    "  xtrain, xtest, ytrain, ytest = train_test_split(X, y, test_size=0.2, random_state=1987)\n",
    "  scaler = StandardScaler()\n",
    "  xtrain = scaler.fit_transform(xtrain)\n",
    "  xtest = scaler.transform(xtest)\n",
    "  regression = LinearRegression(fit_intercept=True, n_jobs = -1)\n",
    "  regression.fit(xtrain,ytrain)\n",
    "  return regression, xtest, ytest\n",
    "  \n",
    "  \n",
    "regModel, xtest2, ytest2 = runMLR(df_small)\n",
    "# print(xtest2)\n",
    "print(regModel.coef_)"
   ]
  },
  {
   "cell_type": "code",
   "execution_count": 93,
   "metadata": {},
   "outputs": [
    {
     "name": "stdout",
     "output_type": "stream",
     "text": [
      "Mean squared error: 6903294.447806446\n",
      "Mean absolute error: 2116.4903506146693\n",
      "R2: 0.6691344500203003\n",
      "Adjusted R2: 0.5811504150277437\n",
      "Regression coefficient: [[ -83.00787472 1436.0711598  1249.3825536  3790.89119478 2273.37773673\n",
      "   695.76649832 -435.33208504]]\n",
      "Intercept: [13666.38752761]\n"
     ]
    }
   ],
   "source": [
    "def modelScoring(mod, xtest, ytest):\n",
    "  \"\"\"Scoring a regression model\"\"\"\n",
    "  ypred = mod.predict(xtest)\n",
    "  residual_vals = ypred-ytest\n",
    "  r2score = r2_score(ypred,ytest)\n",
    "  adjr2 = 1 - ((1-r2score) * len(ytest) - 1) / (len(ytest) - xtest.shape[1] - 1 )\n",
    "  mse = mean_squared_error(ytest,ypred)\n",
    "  mae = mean_absolute_error(ytest,ypred)\n",
    "  rmse = np.sqrt(mse)\n",
    "  # r2 = r2_score(ytest, ypred)\n",
    "  print(f\"Mean squared error: {mse}\\nMean absolute error: {mae}\\nR2: {r2score}\\nAdjusted R2: {adjr2}\")\n",
    "  print(f\"Regression coefficient: {regression.coef_}\\nIntercept: {regression.intercept_}\")\n",
    "  \n",
    "modelScoring(regModel, xtest2, ytest2)\n",
    "  "
   ]
  }
 ],
 "metadata": {
  "kernelspec": {
   "display_name": "Python 3",
   "language": "python",
   "name": "python3"
  },
  "language_info": {
   "codemirror_mode": {
    "name": "ipython",
    "version": 3
   },
   "file_extension": ".py",
   "mimetype": "text/x-python",
   "name": "python",
   "nbconvert_exporter": "python",
   "pygments_lexer": "ipython3",
   "version": "3.10.11"
  }
 },
 "nbformat": 4,
 "nbformat_minor": 2
}
